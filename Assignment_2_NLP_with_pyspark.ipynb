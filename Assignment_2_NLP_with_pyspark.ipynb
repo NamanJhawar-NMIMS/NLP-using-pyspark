{
  "nbformat": 4,
  "nbformat_minor": 0,
  "metadata": {
    "colab": {
      "provenance": [],
      "collapsed_sections": [],
      "authorship_tag": "ABX9TyM820bsTNxuWa4nrT0bHHIb",
      "include_colab_link": true
    },
    "kernelspec": {
      "name": "python3",
      "display_name": "Python 3"
    },
    "language_info": {
      "name": "python"
    }
  },
  "cells": [
    {
      "cell_type": "markdown",
      "metadata": {
        "id": "view-in-github",
        "colab_type": "text"
      },
      "source": [
        "<a href=\"https://colab.research.google.com/github/NamanJhawar-NMIMS/NLP-using-pyspark/blob/main/Assignment_2_NLP_with_pyspark.ipynb\" target=\"_parent\"><img src=\"https://colab.research.google.com/assets/colab-badge.svg\" alt=\"Open In Colab\"/></a>"
      ]
    },
    {
      "cell_type": "markdown",
      "source": [
        "#**Table of Contents**"
      ],
      "metadata": {
        "id": "vMmBWJYsVR-B"
      }
    },
    {
      "cell_type": "markdown",
      "source": [
        ">[Table of Contents](#scrollTo=vMmBWJYsVR-B)\n",
        "\n",
        ">[Import](#scrollTo=wIrohxemVGME)\n",
        "\n",
        ">[Create spark Session](#scrollTo=TVZ4CwwiQIq6)\n",
        "\n",
        ">[Load the data](#scrollTo=gmu8Er4fQN-A)\n",
        "\n",
        ">[PrintSchema](#scrollTo=15pkHtbDQy_8)\n",
        "\n",
        ">>[Graph: How many reviews have been adjusted](#scrollTo=1md2Oy0tQlUn)\n",
        "\n",
        ">>[Graph: How many reviews have been adjusted](#scrollTo=c5efUkoFQ6Re)\n",
        "\n",
        ">[Feature Preprocessing](#scrollTo=UkstH8OEFn5N)\n",
        "\n",
        ">>[Tokenizer](#scrollTo=UAOUI_jIFtRR)\n",
        "\n",
        ">>[StopWordsRemover](#scrollTo=HTTRPLyGFs29)\n",
        "\n",
        ">>[CountVectorizer](#scrollTo=BPa73XKyFs0G)\n",
        "\n",
        ">>[IDF](#scrollTo=IrjmtfvGFsxY)\n",
        "\n",
        ">>[StringIndexer](#scrollTo=X-WI37c-GBT4)\n",
        "\n",
        ">>[One hot encoder](#scrollTo=5Tk3mofkGEjC)\n",
        "\n",
        ">>[Drop unnecessary columns](#scrollTo=4AGX7xB8GJk-)\n",
        "\n",
        ">>[Column typecasting](#scrollTo=UxwXSotsGNd0)\n",
        "\n",
        ">>[Pipeline](#scrollTo=DA7vjuPSGSim)\n",
        "\n",
        ">[Regression](#scrollTo=JsExrBe2GV2a)\n",
        "\n",
        ">>[Train test split](#scrollTo=TAD5FmZCGZy8)\n",
        "\n",
        ">>[Logistic Regression](#scrollTo=guqMmjShGcjj)\n",
        "\n",
        ">>[LinearSVC](#scrollTo=0xg-4i_2MDFg)\n",
        "\n",
        ">>[DecisionTreeClassifier](#scrollTo=jjBSE6EyHd6t)\n",
        "\n",
        ">>[GBTClassifier](#scrollTo=d9s23ASbHiI0)\n",
        "\n",
        ">>[RandomForestClassifier](#scrollTo=rcwHVElFMTQK)\n",
        "\n",
        ">[Evaluation](#scrollTo=pudWv5sOGhz2)\n",
        "\n",
        ">>[ParamGridBuilder](#scrollTo=z9apCFQOOTX4)\n",
        "\n",
        ">>[CrossValidator](#scrollTo=2KTvSWA_OZUW)\n",
        "\n",
        ">>[Best Model](#scrollTo=fqyM--16P7gt)\n",
        "\n"
      ],
      "metadata": {
        "colab_type": "toc",
        "id": "zUJnpZccVLCA"
      }
    },
    {
      "cell_type": "markdown",
      "source": [
        "# Import"
      ],
      "metadata": {
        "id": "wIrohxemVGME"
      }
    },
    {
      "cell_type": "code",
      "execution_count": 8,
      "metadata": {
        "id": "9ybPGXA2fl2z"
      },
      "outputs": [],
      "source": [
        "try:\n",
        "  from pyspark.sql import SparkSession\n",
        "except:\n",
        "  !pip install pyspark\n",
        "  from pyspark.sql import SparkSession\n",
        "\n",
        "try:\n",
        "  import wget\n",
        "except:\n",
        "  !pip install wget\n",
        "  import wget\n",
        "\n",
        "import pandas as pd\n",
        "import numpy as np\n",
        "import matplotlib.pyplot as plt\n",
        "import seaborn as sns\n",
        "import time\n",
        "\n",
        "from pyspark.ml.feature import Tokenizer,StopWordsRemover,CountVectorizer,IDF,StringIndexer,OneHotEncoder\n",
        "from pyspark.ml.pipeline import Pipeline\n",
        "\n",
        "from pyspark.ml.classification import LogisticRegression,LinearSVC,DecisionTreeClassifier,GBTClassifier,RandomForestClassifier,MultilayerPerceptronClassifier\n",
        "\n",
        "from pyspark.ml.evaluation import MulticlassClassificationEvaluator\n",
        "\n",
        "from pyspark.ml.tuning import CrossValidator,ParamGridBuilder"
      ]
    },
    {
      "cell_type": "markdown",
      "source": [
        "# Create spark Session"
      ],
      "metadata": {
        "id": "TVZ4CwwiQIq6"
      }
    },
    {
      "cell_type": "code",
      "source": [
        "session=SparkSession.builder.appName(\"NLP using pyspark\").getOrCreate()"
      ],
      "metadata": {
        "id": "imZLwOdKoggE"
      },
      "execution_count": 4,
      "outputs": []
    },
    {
      "cell_type": "markdown",
      "source": [
        "# Load the data\n",
        "Get the data from the github location and then read it in the form of csv"
      ],
      "metadata": {
        "id": "gmu8Er4fQN-A"
      }
    },
    {
      "cell_type": "code",
      "source": [
        "dataset=session.read.csv(wget.download(\"https://raw.githubusercontent.com/NamanJhawar-NMIMS/NLP-using-pyspark/main/employee_review.csv\"),header=True,inferSchema=True)"
      ],
      "metadata": {
        "id": "01BTkMQjoqXy"
      },
      "execution_count": 5,
      "outputs": []
    },
    {
      "cell_type": "markdown",
      "source": [
        "# PrintSchema"
      ],
      "metadata": {
        "id": "15pkHtbDQy_8"
      }
    },
    {
      "cell_type": "code",
      "source": [
        "dataset.printSchema()"
      ],
      "metadata": {
        "colab": {
          "base_uri": "https://localhost:8080/"
        },
        "id": "_mPMHlwqpAqI",
        "outputId": "881045da-57c7-4e70-9afb-5545ff982d26"
      },
      "execution_count": 6,
      "outputs": [
        {
          "output_type": "stream",
          "name": "stdout",
          "text": [
            "root\n",
            " |-- id: integer (nullable = true)\n",
            " |-- person_name: string (nullable = true)\n",
            " |-- nine_box_category: string (nullable = true)\n",
            " |-- feedback: string (nullable = true)\n",
            " |-- adjusted: boolean (nullable = true)\n",
            " |-- reviewed: boolean (nullable = true)\n",
            "\n"
          ]
        }
      ]
    },
    {
      "cell_type": "code",
      "source": [
        "dataset.groupBy(\"adjusted\").count().show()"
      ],
      "metadata": {
        "colab": {
          "base_uri": "https://localhost:8080/"
        },
        "id": "CLqEj2mzpKPQ",
        "outputId": "12b33f08-2544-472f-df64-03b3ab921ccd"
      },
      "execution_count": 19,
      "outputs": [
        {
          "output_type": "stream",
          "name": "stdout",
          "text": [
            "+--------+-----+\n",
            "|adjusted|count|\n",
            "+--------+-----+\n",
            "|    true|  124|\n",
            "|   false|  754|\n",
            "+--------+-----+\n",
            "\n"
          ]
        }
      ]
    },
    {
      "cell_type": "markdown",
      "source": [
        "## Graph: How many reviews have been adjusted"
      ],
      "metadata": {
        "id": "1md2Oy0tQlUn"
      }
    },
    {
      "cell_type": "code",
      "source": [
        "temp_df=dataset.groupBy(\"adjusted\").count().toPandas()\n",
        "temp_df.adjusted=temp_df.adjusted.astype('string')\n",
        "temp_df.plot.bar(x='adjusted',y='count',rot=1,figsize=(15,8));"
      ],
      "metadata": {
        "colab": {
          "base_uri": "https://localhost:8080/",
          "height": 497
        },
        "id": "Sm_kl2MAQg6n",
        "outputId": "8eda679b-0ddb-48d1-935f-74ba1ad7260d"
      },
      "execution_count": 32,
      "outputs": [
        {
          "output_type": "display_data",
          "data": {
            "text/plain": [
              "<Figure size 1080x576 with 1 Axes>"
            ],
            "image/png": "[encoded data removed]"
          },
          "metadata": {
            "needs_background": "light"
          }
        }
      ]
    },
    {
      "cell_type": "code",
      "source": [
        "dataset.groupBy(\"reviewed\").count().show()"
      ],
      "metadata": {
        "colab": {
          "base_uri": "https://localhost:8080/"
        },
        "id": "Bm2sd4FTpUAj",
        "outputId": "7d3a6b03-424d-446a-eeb2-c95ee49f94db"
      },
      "execution_count": 20,
      "outputs": [
        {
          "output_type": "stream",
          "name": "stdout",
          "text": [
            "+--------+-----+\n",
            "|reviewed|count|\n",
            "+--------+-----+\n",
            "|    true|  245|\n",
            "|   false|  633|\n",
            "+--------+-----+\n",
            "\n"
          ]
        }
      ]
    },
    {
      "cell_type": "markdown",
      "source": [
        "## Graph: How many reviews have been adjusted"
      ],
      "metadata": {
        "id": "c5efUkoFQ6Re"
      }
    },
    {
      "cell_type": "code",
      "source": [
        "temp_df=dataset.groupBy(\"reviewed\").count().toPandas()\n",
        "temp_df.reviewed=temp_df.reviewed.astype('string')\n",
        "temp_df.plot.bar(x='reviewed',y='count',rot=1,figsize=(15,8));"
      ],
      "metadata": {
        "colab": {
          "base_uri": "https://localhost:8080/",
          "height": 497
        },
        "id": "JVtCD1OzTia2",
        "outputId": "5b37f375-3d76-4348-e310-8b278a3acc16"
      },
      "execution_count": 33,
      "outputs": [
        {
          "output_type": "display_data",
          "data": {
            "text/plain": [
              "<Figure size 1080x576 with 1 Axes>"
            ],
            "image/png": "[encoded data removed]"
          },
          "metadata": {
            "needs_background": "light"
          }
        }
      ]
    },
    {
      "cell_type": "code",
      "source": [
        "dataset.show(5)"
      ],
      "metadata": {
        "colab": {
          "base_uri": "https://localhost:8080/"
        },
        "id": "PB1QbVTGvgCN",
        "outputId": "aee3b422-63bb-4792-d557-f37a7f63995a"
      },
      "execution_count": 34,
      "outputs": [
        {
          "output_type": "stream",
          "name": "stdout",
          "text": [
            "+---+-----------+--------------------+--------------------+--------+--------+\n",
            "| id|person_name|   nine_box_category|            feedback|adjusted|reviewed|\n",
            "+---+-----------+--------------------+--------------------+--------+--------+\n",
            "|  1|   John Doe|Category 1: 'Risk...|John has not prog...|   false|    true|\n",
            "|  2|   John Doe|Category 1: 'Risk...|John has consiste...|   false|    true|\n",
            "|  3|   John Doe|Category 1: 'Risk...|John turned in su...|   false|    true|\n",
            "|  6|   John Doe|Category 1: 'Risk...|John Doe demonstr...|   false|    true|\n",
            "|  7|George Gill|Category 1: 'Risk...|George gill's per...|   false|    true|\n",
            "+---+-----------+--------------------+--------------------+--------+--------+\n",
            "only showing top 5 rows\n",
            "\n"
          ]
        }
      ]
    },
    {
      "cell_type": "markdown",
      "source": [
        "# Feature Preprocessing\n"
      ],
      "metadata": {
        "id": "UkstH8OEFn5N"
      }
    },
    {
      "cell_type": "markdown",
      "source": [
        "## Tokenizer"
      ],
      "metadata": {
        "id": "UAOUI_jIFtRR"
      }
    },
    {
      "cell_type": "code",
      "source": [
        "tokenizer = Tokenizer(inputCol='feedback',outputCol='mytokens')\n"
      ],
      "metadata": {
        "id": "mPrEJtMaF5VT"
      },
      "execution_count": 35,
      "outputs": []
    },
    {
      "cell_type": "markdown",
      "source": [
        "## StopWordsRemover"
      ],
      "metadata": {
        "id": "HTTRPLyGFs29"
      }
    },
    {
      "cell_type": "code",
      "source": [
        "stopwords_remover = StopWordsRemover(inputCol='mytokens',outputCol='filtered_tokens')\n"
      ],
      "metadata": {
        "id": "Ihp3V6gWF6vP"
      },
      "execution_count": 36,
      "outputs": []
    },
    {
      "cell_type": "markdown",
      "source": [
        "## CountVectorizer"
      ],
      "metadata": {
        "id": "BPa73XKyFs0G"
      }
    },
    {
      "cell_type": "code",
      "source": [
        "vectorizer = CountVectorizer(inputCol='filtered_tokens',outputCol='rawFeatures')\n"
      ],
      "metadata": {
        "id": "muLjyPDCF8Lt"
      },
      "execution_count": 37,
      "outputs": []
    },
    {
      "cell_type": "markdown",
      "source": [
        "## IDF"
      ],
      "metadata": {
        "id": "IrjmtfvGFsxY"
      }
    },
    {
      "cell_type": "code",
      "source": [
        "idf = IDF(inputCol='rawFeatures',outputCol='vectorizedFeatures')"
      ],
      "metadata": {
        "id": "H1PNzIXVn9qq"
      },
      "execution_count": 38,
      "outputs": []
    },
    {
      "cell_type": "markdown",
      "source": [
        "## StringIndexer"
      ],
      "metadata": {
        "id": "X-WI37c-GBT4"
      }
    },
    {
      "cell_type": "code",
      "source": [
        "\n",
        "columnsTobeIndexed=[\"adjusted\",\"reviewed\",\"nine_box_category\"]\n",
        "stringIndexer=StringIndexer(inputCols=columnsTobeIndexed,outputCols=[string+\"_indexed\" for string in columnsTobeIndexed])\n",
        "\n"
      ],
      "metadata": {
        "id": "sqIsUJS1vf_s"
      },
      "execution_count": 39,
      "outputs": []
    },
    {
      "cell_type": "markdown",
      "source": [
        "## One hot encoder"
      ],
      "metadata": {
        "id": "5Tk3mofkGEjC"
      }
    },
    {
      "cell_type": "code",
      "source": [
        "oneHotEncoder=OneHotEncoder(inputCols=stringIndexer.getOutputCols(),outputCols=[string+\"_onehot\" for string in stringIndexer.getOutputCols()])"
      ],
      "metadata": {
        "id": "WhB8MU_mGEQI"
      },
      "execution_count": 40,
      "outputs": []
    },
    {
      "cell_type": "markdown",
      "source": [
        "## Drop unnecessary columns"
      ],
      "metadata": {
        "id": "4AGX7xB8GJk-"
      }
    },
    {
      "cell_type": "code",
      "source": [
        "# drop unwanted Columns from the dataset\n",
        "dataset=dataset.drop(*[\"id\",'Person_name'])"
      ],
      "metadata": {
        "id": "DwFroo7nvf9L"
      },
      "execution_count": 41,
      "outputs": []
    },
    {
      "cell_type": "code",
      "source": [
        "dataset.show(2)"
      ],
      "metadata": {
        "colab": {
          "base_uri": "https://localhost:8080/"
        },
        "id": "xHWyuiorvf6m",
        "outputId": "7ba65b45-93b9-4653-849a-9921ae7ec0f0"
      },
      "execution_count": 42,
      "outputs": [
        {
          "output_type": "stream",
          "name": "stdout",
          "text": [
            "+--------------------+--------------------+--------+--------+\n",
            "|   nine_box_category|            feedback|adjusted|reviewed|\n",
            "+--------------------+--------------------+--------+--------+\n",
            "|Category 1: 'Risk...|John has not prog...|   false|    true|\n",
            "|Category 1: 'Risk...|John has consiste...|   false|    true|\n",
            "+--------------------+--------------------+--------+--------+\n",
            "only showing top 2 rows\n",
            "\n"
          ]
        }
      ]
    },
    {
      "cell_type": "markdown",
      "source": [
        "## Column typecasting "
      ],
      "metadata": {
        "id": "UxwXSotsGNd0"
      }
    },
    {
      "cell_type": "code",
      "source": [
        "dataset=dataset.withColumn(\"adjusted\",dataset.adjusted.cast(\"string\"))\n",
        "dataset=dataset.withColumn(\"reviewed\",dataset.reviewed.cast(\"string\"))\n",
        "dataset.printSchema()"
      ],
      "metadata": {
        "colab": {
          "base_uri": "https://localhost:8080/"
        },
        "id": "gWsDyz_jzyhv",
        "outputId": "17549142-dd21-4b53-a3dd-a60840a3a604"
      },
      "execution_count": 43,
      "outputs": [
        {
          "output_type": "stream",
          "name": "stdout",
          "text": [
            "root\n",
            " |-- nine_box_category: string (nullable = true)\n",
            " |-- feedback: string (nullable = true)\n",
            " |-- adjusted: string (nullable = true)\n",
            " |-- reviewed: string (nullable = true)\n",
            "\n"
          ]
        }
      ]
    },
    {
      "cell_type": "markdown",
      "source": [
        "## Pipeline"
      ],
      "metadata": {
        "id": "DA7vjuPSGSim"
      }
    },
    {
      "cell_type": "code",
      "source": [
        "myPipeline=Pipeline(stages=[tokenizer,stopwords_remover,vectorizer,idf,stringIndexer,oneHotEncoder])\n",
        "dataset=myPipeline.fit(dataset).transform(dataset)"
      ],
      "metadata": {
        "id": "GPF4PePBuTQw"
      },
      "execution_count": 44,
      "outputs": []
    },
    {
      "cell_type": "code",
      "source": [
        "dataset.show()"
      ],
      "metadata": {
        "colab": {
          "base_uri": "https://localhost:8080/"
        },
        "id": "OyCduNOmy9v7",
        "outputId": "4fa633ea-4be8-4a57-c955-30f1d7b643f6"
      },
      "execution_count": 45,
      "outputs": [
        {
          "output_type": "stream",
          "name": "stdout",
          "text": [
            "+--------------------+--------------------+--------+--------+--------------------+--------------------+--------------------+--------------------+----------------+----------------+-------------------------+-----------------------+-----------------------+--------------------------------+\n",
            "|   nine_box_category|            feedback|adjusted|reviewed|            mytokens|     filtered_tokens|         rawFeatures|  vectorizedFeatures|adjusted_indexed|reviewed_indexed|nine_box_category_indexed|adjusted_indexed_onehot|reviewed_indexed_onehot|nine_box_category_indexed_onehot|\n",
            "+--------------------+--------------------+--------+--------+--------------------+--------------------+--------------------+--------------------+----------------+----------------+-------------------------+-----------------------+-----------------------+--------------------------------+\n",
            "|Category 1: 'Risk...|John has not prog...|   false|    true|[john, has, not, ...|[john, progressed...|(5295,[3,8,52,79,...|(5295,[3,8,52,79,...|             0.0|             1.0|                      0.0|          (1,[0],[1.0])|              (1,[],[])|                   (8,[0],[1.0])|\n",
            "|Category 1: 'Risk...|John has consiste...|   false|    true|[john, has, consi...|[john, consistent...|(5295,[0,32,50,88...|(5295,[0,32,50,88...|             0.0|             1.0|                      0.0|          (1,[0],[1.0])|              (1,[],[])|                   (8,[0],[1.0])|\n",
            "|Category 1: 'Risk...|John turned in su...|   false|    true|[john, turned, in...|[john, turned, su...|(5295,[0,4,24,27,...|(5295,[0,4,24,27,...|             0.0|             1.0|                      0.0|          (1,[0],[1.0])|              (1,[],[])|                   (8,[0],[1.0])|\n",
            "|Category 1: 'Risk...|John Doe demonstr...|   false|    true|[john, doe, demon...|[john, doe, demon...|(5295,[0,36,37,39...|(5295,[0,36,37,39...|             0.0|             1.0|                      0.0|          (1,[0],[1.0])|              (1,[],[])|                   (8,[0],[1.0])|\n",
            "|Category 1: 'Risk...|George gill's per...|   false|    true|[george, gill's, ...|[george, gill's, ...|(5295,[1,8,28,29,...|(5295,[1,8,28,29,...|             0.0|             1.0|                      0.0|          (1,[0],[1.0])|              (1,[],[])|                   (8,[0],[1.0])|\n",
            "|Category 1: 'Risk...|George Gill has m...|   false|    true|[george, gill, ha...|[george, gill, ma...|(5295,[0,4,24,86,...|(5295,[0,4,24,86,...|             0.0|             1.0|                      0.0|          (1,[0],[1.0])|              (1,[],[])|                   (8,[0],[1.0])|\n",
            "|Category 1: 'Risk...|George Gill prese...|   false|    true|[george, gill, pr...|[george, gill, pr...|(5295,[0,16,21,50...|(5295,[0,16,21,50...|             0.0|             1.0|                      0.0|          (1,[0],[1.0])|              (1,[],[])|                   (8,[0],[1.0])|\n",
            "|Category 1: 'Risk...|Libby's work need...|   false|    true|[libby's, work, n...|[libby's, work, n...|(5295,[0,13,55,80...|(5295,[0,13,55,80...|             0.0|             1.0|                      0.0|          (1,[0],[1.0])|              (1,[],[])|                   (8,[0],[1.0])|\n",
            "|Category 1: 'Risk...|Libby Parker has ...|   false|    true|[libby, parker, h...|[libby, parker, n...|(5295,[9,10,21,28...|(5295,[9,10,21,28...|             0.0|             1.0|                      0.0|          (1,[0],[1.0])|              (1,[],[])|                   (8,[0],[1.0])|\n",
            "|Category 1: 'Risk...|I'm always nervou...|   false|    true|[i'm, always, ner...|[always, nervous,...|(5295,[0,2,3,5,15...|(5295,[0,2,3,5,15...|             0.0|             1.0|                      0.0|          (1,[0],[1.0])|              (1,[],[])|                   (8,[0],[1.0])|\n",
            "|Category 1: 'Risk...|Had a chance to w...|   false|    true|[had, a, chance, ...|[chance, work, ge...|(5295,[0,8,18,25,...|(5295,[0,8,18,25,...|             0.0|             1.0|                      0.0|          (1,[0],[1.0])|              (1,[],[])|                   (8,[0],[1.0])|\n",
            "|Category 1: 'Risk...|George was given ...|   false|    true|[george, was, giv...|[george, given, a...|(5295,[0,23,28,64...|(5295,[0,23,28,64...|             0.0|             1.0|                      0.0|          (1,[0],[1.0])|              (1,[],[])|                   (8,[0],[1.0])|\n",
            "|Category 1: 'Risk...|Even though Libby...|   false|    true|[even, though, li...|[even, though, li...|(5295,[0,15,20,27...|(5295,[0,15,20,27...|             0.0|             1.0|                      0.0|          (1,[0],[1.0])|              (1,[],[])|                   (8,[0],[1.0])|\n",
            "|Category 1: 'Risk...|Libby started off...|   false|    true|[libby, started, ...|[libby, started, ...|(5295,[0,10,11,18...|(5295,[0,10,11,18...|             0.0|             1.0|                      0.0|          (1,[0],[1.0])|              (1,[],[])|                   (8,[0],[1.0])|\n",
            "|Category 1: 'Risk...|Libby we must tal...|   false|    true|[libby, we, must,...|[libby, must, tal...|(5295,[0,2,7,10,1...|(5295,[0,2,7,10,1...|             0.0|             1.0|                      0.0|          (1,[0],[1.0])|              (1,[],[])|                   (8,[0],[1.0])|\n",
            "|Category 1: 'Risk...|Tom's work produc...|   false|    true|[tom's, work, pro...|[tom's, work, pro...|(5295,[0,2,13,21,...|(5295,[0,2,13,21,...|             0.0|             1.0|                      0.0|          (1,[0],[1.0])|              (1,[],[])|                   (8,[0],[1.0])|\n",
            "|Category 1: 'Risk...|Tom Barrett has a...|   false|    true|[tom, barrett, ha...|[tom, barrett, pr...|(5295,[0,9,27,39,...|(5295,[0,9,27,39,...|             0.0|             1.0|                      0.0|          (1,[0],[1.0])|              (1,[],[])|                   (8,[0],[1.0])|\n",
            "|Category 1: 'Risk...|Tom does not show...|   false|    true|[tom, does, not, ...|[tom, show, poten...|(5295,[3,4,5,10,1...|(5295,[3,4,5,10,1...|             0.0|             1.0|                      0.0|          (1,[0],[1.0])|              (1,[],[])|                   (8,[0],[1.0])|\n",
            "|Category 1: 'Risk...|I think that Jale...|   false|   false|[i, think, that, ...|[think, jalen, tr...|(5295,[2,24,25,33...|(5295,[2,24,25,33...|             0.0|             0.0|                      0.0|          (1,[0],[1.0])|          (1,[0],[1.0])|                   (8,[0],[1.0])|\n",
            "|Category 1: 'Risk...|Jalen Summers doe...|   false|    true|[jalen, summers, ...|[jalen, summers, ...|(5295,[0,8,21,28,...|(5295,[0,8,21,28,...|             0.0|             1.0|                      0.0|          (1,[0],[1.0])|              (1,[],[])|                   (8,[0],[1.0])|\n",
            "+--------------------+--------------------+--------+--------+--------------------+--------------------+--------------------+--------------------+----------------+----------------+-------------------------+-----------------------+-----------------------+--------------------------------+\n",
            "only showing top 20 rows\n",
            "\n"
          ]
        }
      ]
    },
    {
      "cell_type": "markdown",
      "source": [
        "# Regression"
      ],
      "metadata": {
        "id": "JsExrBe2GV2a"
      }
    },
    {
      "cell_type": "markdown",
      "source": [
        "## Train test split"
      ],
      "metadata": {
        "id": "TAD5FmZCGZy8"
      }
    },
    {
      "cell_type": "code",
      "source": [
        "trainDF,testDF = dataset.randomSplit((0.7,0.3),seed=42)"
      ],
      "metadata": {
        "id": "Th2iD1pyzng4"
      },
      "execution_count": 46,
      "outputs": []
    },
    {
      "cell_type": "code",
      "source": [
        "evaluator = MulticlassClassificationEvaluator(labelCol='nine_box_category_indexed',predictionCol='prediction',metricName='accuracy')\n",
        "eval_dict={}\n",
        "time_list=[]"
      ],
      "metadata": {
        "id": "SQdQKc-I18ox"
      },
      "execution_count": 48,
      "outputs": []
    },
    {
      "cell_type": "markdown",
      "source": [
        "## Logistic Regression"
      ],
      "metadata": {
        "id": "guqMmjShGcjj"
      }
    },
    {
      "cell_type": "code",
      "source": [
        "time1=time.time()\n",
        "model = LogisticRegression(featuresCol='vectorizedFeatures',labelCol='nine_box_category_indexed')\n",
        "lr_results=model.fit(trainDF).transform(testDF)\n",
        "time_list.append(time.time()-time1)\n",
        "\n",
        "eval_dict[str(model).split(\"_\")[0]]=evaluator.evaluate(lr_results)"
      ],
      "metadata": {
        "id": "YzXUUjvl0VY4"
      },
      "execution_count": 49,
      "outputs": []
    },
    {
      "cell_type": "markdown",
      "source": [
        "## LinearSVC"
      ],
      "metadata": {
        "id": "0xg-4i_2MDFg"
      }
    },
    {
      "cell_type": "markdown",
      "source": [
        "LinearSVC model cannot be used as it supports only 2 classes"
      ],
      "metadata": {
        "id": "IaryY91bL-GA"
      }
    },
    {
      "cell_type": "markdown",
      "source": [
        "## DecisionTreeClassifier"
      ],
      "metadata": {
        "id": "jjBSE6EyHd6t"
      }
    },
    {
      "cell_type": "code",
      "source": [
        "time1=time.time()\n",
        "\n",
        "model = DecisionTreeClassifier(featuresCol='vectorizedFeatures',labelCol='nine_box_category_indexed')\n",
        "DecisionTreeClassifier_results=model.fit(trainDF).transform(testDF)\n",
        "\n",
        "time_list.append(time.time()-time1)\n",
        "\n",
        "eval_dict[str(model).split(\"_\")[0]]=evaluator.evaluate(DecisionTreeClassifier_results)"
      ],
      "metadata": {
        "id": "fbclPgfAIz4z"
      },
      "execution_count": 50,
      "outputs": []
    },
    {
      "cell_type": "markdown",
      "source": [
        "## GBTClassifier\n",
        "Gradient Boost"
      ],
      "metadata": {
        "id": "d9s23ASbHiI0"
      }
    },
    {
      "cell_type": "markdown",
      "source": [
        "GBTClassifier also supports only 2 classes"
      ],
      "metadata": {
        "id": "i60ws6QPMSec"
      }
    },
    {
      "cell_type": "markdown",
      "source": [
        "## RandomForestClassifier"
      ],
      "metadata": {
        "id": "rcwHVElFMTQK"
      }
    },
    {
      "cell_type": "code",
      "source": [
        "time1=time.time()\n",
        "\n",
        "model = RandomForestClassifier(featuresCol='vectorizedFeatures',labelCol='nine_box_category_indexed')\n",
        "RandomForestClassifier_results=model.fit(trainDF).transform(testDF)\n",
        "time_list.append(time.time()-time1)\n",
        "\n",
        "eval_dict[str(model).split(\"_\")[0]]=evaluator.evaluate(RandomForestClassifier_results)"
      ],
      "metadata": {
        "id": "c2dFo1olI0hs"
      },
      "execution_count": 51,
      "outputs": []
    },
    {
      "cell_type": "markdown",
      "source": [
        "# Evaluation"
      ],
      "metadata": {
        "id": "pudWv5sOGhz2"
      }
    },
    {
      "cell_type": "code",
      "source": [
        "model_metric={'Model Name':list(eval_dict.keys()),'accuracy':list(eval_dict.values()),'Model runtime':time_list}\n",
        "model_metric_df=pd.DataFrame(model_metric)\n",
        "model_metric_df"
      ],
      "metadata": {
        "colab": {
          "base_uri": "https://localhost:8080/",
          "height": 143
        },
        "id": "HjWn8icCKcIQ",
        "outputId": "bafb83a6-ea7b-4030-e4c3-cf11bf85c7ff"
      },
      "execution_count": 52,
      "outputs": [
        {
          "output_type": "execute_result",
          "data": {
            "text/plain": [
              "               Model Name  accuracy  Model runtime\n",
              "0      LogisticRegression  0.584071       7.740765\n",
              "1  DecisionTreeClassifier  0.115044       5.134830\n",
              "2  RandomForestClassifier  0.252212       4.329817"
            ],
            "text/html": [
              "\n",
              "  <div id=\"df-5dd59af1-e6f8-4f2a-a756-5cd2bc22a085\">\n",
              "    <div class=\"colab-df-container\">\n",
              "      <div>\n",
              "<style scoped>\n",
              "    .dataframe tbody tr th:only-of-type {\n",
              "        vertical-align: middle;\n",
              "    }\n",
              "\n",
              "    .dataframe tbody tr th {\n",
              "        vertical-align: top;\n",
              "    }\n",
              "\n",
              "    .dataframe thead th {\n",
              "        text-align: right;\n",
              "    }\n",
              "</style>\n",
              "<table border=\"1\" class=\"dataframe\">\n",
              "  <thead>\n",
              "    <tr style=\"text-align: right;\">\n",
              "      <th></th>\n",
              "      <th>Model Name</th>\n",
              "      <th>accuracy</th>\n",
              "      <th>Model runtime</th>\n",
              "    </tr>\n",
              "  </thead>\n",
              "  <tbody>\n",
              "    <tr>\n",
              "      <th>0</th>\n",
              "      <td>LogisticRegression</td>\n",
              "      <td>0.584071</td>\n",
              "      <td>7.740765</td>\n",
              "    </tr>\n",
              "    <tr>\n",
              "      <th>1</th>\n",
              "      <td>DecisionTreeClassifier</td>\n",
              "      <td>0.115044</td>\n",
              "      <td>5.134830</td>\n",
              "    </tr>\n",
              "    <tr>\n",
              "      <th>2</th>\n",
              "      <td>RandomForestClassifier</td>\n",
              "      <td>0.252212</td>\n",
              "      <td>4.329817</td>\n",
              "    </tr>\n",
              "  </tbody>\n",
              "</table>\n",
              "</div>\n",
              "      <button class=\"colab-df-convert\" onclick=\"convertToInteractive('df-5dd59af1-e6f8-4f2a-a756-5cd2bc22a085')\"\n",
              "              title=\"Convert this dataframe to an interactive table.\"\n",
              "              style=\"display:none;\">\n",
              "        \n",
              "  <svg xmlns=\"http://www.w3.org/2000/svg\" height=\"24px\"viewBox=\"0 0 24 24\"\n",
              "       width=\"24px\">\n",
              "    <path d=\"M0 0h24v24H0V0z\" fill=\"none\"/>\n",
              "    <path d=\"M18.56 5.44l.94 2.06.94-2.06 2.06-.94-2.06-.94-.94-2.06-.94 2.06-2.06.94zm-11 1L8.5 8.5l.94-2.06 2.06-.94-2.06-.94L8.5 2.5l-.94 2.06-2.06.94zm10 10l.94 2.06.94-2.06 2.06-.94-2.06-.94-.94-2.06-.94 2.06-2.06.94z\"/><path d=\"M17.41 7.96l-1.37-1.37c-.4-.4-.92-.59-1.43-.59-.52 0-1.04.2-1.43.59L10.3 9.45l-7.72 7.72c-.78.78-.78 2.05 0 2.83L4 21.41c.39.39.9.59 1.41.59.51 0 1.02-.2 1.41-.59l7.78-7.78 2.81-2.81c.8-.78.8-2.07 0-2.86zM5.41 20L4 18.59l7.72-7.72 1.47 1.35L5.41 20z\"/>\n",
              "  </svg>\n",
              "      </button>\n",
              "      \n",
              "  <style>\n",
              "    .colab-df-container {\n",
              "      display:flex;\n",
              "      flex-wrap:wrap;\n",
              "      gap: 12px;\n",
              "    }\n",
              "\n",
              "    .colab-df-convert {\n",
              "      background-color: #E8F0FE;\n",
              "      border: none;\n",
              "      border-radius: 50%;\n",
              "      cursor: pointer;\n",
              "      display: none;\n",
              "      fill: #1967D2;\n",
              "      height: 32px;\n",
              "      padding: 0 0 0 0;\n",
              "      width: 32px;\n",
              "    }\n",
              "\n",
              "    .colab-df-convert:hover {\n",
              "      background-color: #E2EBFA;\n",
              "      box-shadow: 0px 1px 2px rgba(60, 64, 67, 0.3), 0px 1px 3px 1px rgba(60, 64, 67, 0.15);\n",
              "      fill: #174EA6;\n",
              "    }\n",
              "\n",
              "    [theme=dark] .colab-df-convert {\n",
              "      background-color: #3B4455;\n",
              "      fill: #D2E3FC;\n",
              "    }\n",
              "\n",
              "    [theme=dark] .colab-df-convert:hover {\n",
              "      background-color: #434B5C;\n",
              "      box-shadow: 0px 1px 3px 1px rgba(0, 0, 0, 0.15);\n",
              "      filter: drop-shadow(0px 1px 2px rgba(0, 0, 0, 0.3));\n",
              "      fill: #FFFFFF;\n",
              "    }\n",
              "  </style>\n",
              "\n",
              "      <script>\n",
              "        const buttonEl =\n",
              "          document.querySelector('#df-5dd59af1-e6f8-4f2a-a756-5cd2bc22a085 button.colab-df-convert');\n",
              "        buttonEl.style.display =\n",
              "          google.colab.kernel.accessAllowed ? 'block' : 'none';\n",
              "\n",
              "        async function convertToInteractive(key) {\n",
              "          const element = document.querySelector('#df-5dd59af1-e6f8-4f2a-a756-5cd2bc22a085');\n",
              "          const dataTable =\n",
              "            await google.colab.kernel.invokeFunction('convertToInteractive',\n",
              "                                                     [key], {});\n",
              "          if (!dataTable) return;\n",
              "\n",
              "          const docLinkHtml = 'Like what you see? Visit the ' +\n",
              "            '<a target=\"_blank\" href=https://colab.research.google.com/notebooks/data_table.ipynb>data table notebook</a>'\n",
              "            + ' to learn more about interactive tables.';\n",
              "          element.innerHTML = '';\n",
              "          dataTable['output_type'] = 'display_data';\n",
              "          await google.colab.output.renderOutput(dataTable, element);\n",
              "          const docLink = document.createElement('div');\n",
              "          docLink.innerHTML = docLinkHtml;\n",
              "          element.appendChild(docLink);\n",
              "        }\n",
              "      </script>\n",
              "    </div>\n",
              "  </div>\n",
              "  "
            ]
          },
          "metadata": {},
          "execution_count": 52
        }
      ]
    },
    {
      "cell_type": "code",
      "source": [
        "model_metric_df.sort_values('accuracy',ascending=False)"
      ],
      "metadata": {
        "colab": {
          "base_uri": "https://localhost:8080/",
          "height": 143
        },
        "id": "WrEERFPcKzwD",
        "outputId": "cee1bd5e-ba88-49e1-909a-62e14bb33d7f"
      },
      "execution_count": 53,
      "outputs": [
        {
          "output_type": "execute_result",
          "data": {
            "text/plain": [
              "               Model Name  accuracy  Model runtime\n",
              "0      LogisticRegression  0.584071       7.740765\n",
              "2  RandomForestClassifier  0.252212       4.329817\n",
              "1  DecisionTreeClassifier  0.115044       5.134830"
            ],
            "text/html": [
              "\n",
              "  <div id=\"df-0b86a32b-e74d-4f56-b03b-f60ef31a7c14\">\n",
              "    <div class=\"colab-df-container\">\n",
              "      <div>\n",
              "<style scoped>\n",
              "    .dataframe tbody tr th:only-of-type {\n",
              "        vertical-align: middle;\n",
              "    }\n",
              "\n",
              "    .dataframe tbody tr th {\n",
              "        vertical-align: top;\n",
              "    }\n",
              "\n",
              "    .dataframe thead th {\n",
              "        text-align: right;\n",
              "    }\n",
              "</style>\n",
              "<table border=\"1\" class=\"dataframe\">\n",
              "  <thead>\n",
              "    <tr style=\"text-align: right;\">\n",
              "      <th></th>\n",
              "      <th>Model Name</th>\n",
              "      <th>accuracy</th>\n",
              "      <th>Model runtime</th>\n",
              "    </tr>\n",
              "  </thead>\n",
              "  <tbody>\n",
              "    <tr>\n",
              "      <th>0</th>\n",
              "      <td>LogisticRegression</td>\n",
              "      <td>0.584071</td>\n",
              "      <td>7.740765</td>\n",
              "    </tr>\n",
              "    <tr>\n",
              "      <th>2</th>\n",
              "      <td>RandomForestClassifier</td>\n",
              "      <td>0.252212</td>\n",
              "      <td>4.329817</td>\n",
              "    </tr>\n",
              "    <tr>\n",
              "      <th>1</th>\n",
              "      <td>DecisionTreeClassifier</td>\n",
              "      <td>0.115044</td>\n",
              "      <td>5.134830</td>\n",
              "    </tr>\n",
              "  </tbody>\n",
              "</table>\n",
              "</div>\n",
              "      <button class=\"colab-df-convert\" onclick=\"convertToInteractive('df-0b86a32b-e74d-4f56-b03b-f60ef31a7c14')\"\n",
              "              title=\"Convert this dataframe to an interactive table.\"\n",
              "              style=\"display:none;\">\n",
              "        \n",
              "  <svg xmlns=\"http://www.w3.org/2000/svg\" height=\"24px\"viewBox=\"0 0 24 24\"\n",
              "       width=\"24px\">\n",
              "    <path d=\"M0 0h24v24H0V0z\" fill=\"none\"/>\n",
              "    <path d=\"M18.56 5.44l.94 2.06.94-2.06 2.06-.94-2.06-.94-.94-2.06-.94 2.06-2.06.94zm-11 1L8.5 8.5l.94-2.06 2.06-.94-2.06-.94L8.5 2.5l-.94 2.06-2.06.94zm10 10l.94 2.06.94-2.06 2.06-.94-2.06-.94-.94-2.06-.94 2.06-2.06.94z\"/><path d=\"M17.41 7.96l-1.37-1.37c-.4-.4-.92-.59-1.43-.59-.52 0-1.04.2-1.43.59L10.3 9.45l-7.72 7.72c-.78.78-.78 2.05 0 2.83L4 21.41c.39.39.9.59 1.41.59.51 0 1.02-.2 1.41-.59l7.78-7.78 2.81-2.81c.8-.78.8-2.07 0-2.86zM5.41 20L4 18.59l7.72-7.72 1.47 1.35L5.41 20z\"/>\n",
              "  </svg>\n",
              "      </button>\n",
              "      \n",
              "  <style>\n",
              "    .colab-df-container {\n",
              "      display:flex;\n",
              "      flex-wrap:wrap;\n",
              "      gap: 12px;\n",
              "    }\n",
              "\n",
              "    .colab-df-convert {\n",
              "      background-color: #E8F0FE;\n",
              "      border: none;\n",
              "      border-radius: 50%;\n",
              "      cursor: pointer;\n",
              "      display: none;\n",
              "      fill: #1967D2;\n",
              "      height: 32px;\n",
              "      padding: 0 0 0 0;\n",
              "      width: 32px;\n",
              "    }\n",
              "\n",
              "    .colab-df-convert:hover {\n",
              "      background-color: #E2EBFA;\n",
              "      box-shadow: 0px 1px 2px rgba(60, 64, 67, 0.3), 0px 1px 3px 1px rgba(60, 64, 67, 0.15);\n",
              "      fill: #174EA6;\n",
              "    }\n",
              "\n",
              "    [theme=dark] .colab-df-convert {\n",
              "      background-color: #3B4455;\n",
              "      fill: #D2E3FC;\n",
              "    }\n",
              "\n",
              "    [theme=dark] .colab-df-convert:hover {\n",
              "      background-color: #434B5C;\n",
              "      box-shadow: 0px 1px 3px 1px rgba(0, 0, 0, 0.15);\n",
              "      filter: drop-shadow(0px 1px 2px rgba(0, 0, 0, 0.3));\n",
              "      fill: #FFFFFF;\n",
              "    }\n",
              "  </style>\n",
              "\n",
              "      <script>\n",
              "        const buttonEl =\n",
              "          document.querySelector('#df-0b86a32b-e74d-4f56-b03b-f60ef31a7c14 button.colab-df-convert');\n",
              "        buttonEl.style.display =\n",
              "          google.colab.kernel.accessAllowed ? 'block' : 'none';\n",
              "\n",
              "        async function convertToInteractive(key) {\n",
              "          const element = document.querySelector('#df-0b86a32b-e74d-4f56-b03b-f60ef31a7c14');\n",
              "          const dataTable =\n",
              "            await google.colab.kernel.invokeFunction('convertToInteractive',\n",
              "                                                     [key], {});\n",
              "          if (!dataTable) return;\n",
              "\n",
              "          const docLinkHtml = 'Like what you see? Visit the ' +\n",
              "            '<a target=\"_blank\" href=https://colab.research.google.com/notebooks/data_table.ipynb>data table notebook</a>'\n",
              "            + ' to learn more about interactive tables.';\n",
              "          element.innerHTML = '';\n",
              "          dataTable['output_type'] = 'display_data';\n",
              "          await google.colab.output.renderOutput(dataTable, element);\n",
              "          const docLink = document.createElement('div');\n",
              "          docLink.innerHTML = docLinkHtml;\n",
              "          element.appendChild(docLink);\n",
              "        }\n",
              "      </script>\n",
              "    </div>\n",
              "  </div>\n",
              "  "
            ]
          },
          "metadata": {},
          "execution_count": 53
        }
      ]
    },
    {
      "cell_type": "markdown",
      "source": [
        "## ParamGridBuilder"
      ],
      "metadata": {
        "id": "z9apCFQOOTX4"
      }
    },
    {
      "cell_type": "code",
      "source": [
        "lr=LogisticRegression(featuresCol='vectorizedFeatures',labelCol='nine_box_category_indexed')\n",
        "grid = ParamGridBuilder().addGrid(lr.maxIter, [0, 1]).build()"
      ],
      "metadata": {
        "id": "cUjEy-_JOSrl"
      },
      "execution_count": 59,
      "outputs": []
    },
    {
      "cell_type": "markdown",
      "source": [
        "## CrossValidator"
      ],
      "metadata": {
        "id": "2KTvSWA_OZUW"
      }
    },
    {
      "cell_type": "code",
      "source": [
        "time1=time.time()\n",
        "\n",
        "cv = CrossValidator(estimator=lr, estimatorParamMaps=grid, evaluator=evaluator,parallelism=2)\n",
        "cvModel = cv.fit(dataset)\n",
        "\n",
        "timeTakenByCrossValidator=time.time()-time1\n"
      ],
      "metadata": {
        "id": "nJAdS-Ua2D0N"
      },
      "execution_count": 60,
      "outputs": []
    },
    {
      "cell_type": "code",
      "source": [
        "eval_dict['LogisticRegression_optimized']=(evaluator.evaluate(cvModel.transform(dataset)))\n"
      ],
      "metadata": {
        "id": "23QSyNJIUkBZ"
      },
      "execution_count": 62,
      "outputs": []
    },
    {
      "cell_type": "code",
      "source": [
        "indexToAddAt=len(model_metric_df['Model Name'])\n",
        "model_metric_df.loc[indexToAddAt,'Model Name']=list(eval_dict.keys())[-1]\n",
        "model_metric_df.loc[indexToAddAt,'accuracy']=list(eval_dict.values())[-1]\n",
        "model_metric_df.loc[indexToAddAt,'Model runtime']=timeTakenByCrossValidator"
      ],
      "metadata": {
        "id": "OuWVNESIOia3"
      },
      "execution_count": 63,
      "outputs": []
    },
    {
      "cell_type": "code",
      "source": [
        "model_metric_df"
      ],
      "metadata": {
        "colab": {
          "base_uri": "https://localhost:8080/",
          "height": 175
        },
        "id": "2MW4S3kQOt-h",
        "outputId": "d4f6f124-2fcf-40ec-f70e-daeb70c63b90"
      },
      "execution_count": 64,
      "outputs": [
        {
          "output_type": "execute_result",
          "data": {
            "text/plain": [
              "                     Model Name  accuracy  Model runtime\n",
              "0            LogisticRegression  0.584071       7.740765\n",
              "1        DecisionTreeClassifier  0.115044       5.134830\n",
              "2        RandomForestClassifier  0.252212       4.329817\n",
              "3  LogisticRegression_optimized  0.997722       7.107096"
            ],
            "text/html": [
              "\n",
              "  <div id=\"df-30df3a24-819d-464a-a407-c46df1af3465\">\n",
              "    <div class=\"colab-df-container\">\n",
              "      <div>\n",
              "<style scoped>\n",
              "    .dataframe tbody tr th:only-of-type {\n",
              "        vertical-align: middle;\n",
              "    }\n",
              "\n",
              "    .dataframe tbody tr th {\n",
              "        vertical-align: top;\n",
              "    }\n",
              "\n",
              "    .dataframe thead th {\n",
              "        text-align: right;\n",
              "    }\n",
              "</style>\n",
              "<table border=\"1\" class=\"dataframe\">\n",
              "  <thead>\n",
              "    <tr style=\"text-align: right;\">\n",
              "      <th></th>\n",
              "      <th>Model Name</th>\n",
              "      <th>accuracy</th>\n",
              "      <th>Model runtime</th>\n",
              "    </tr>\n",
              "  </thead>\n",
              "  <tbody>\n",
              "    <tr>\n",
              "      <th>0</th>\n",
              "      <td>LogisticRegression</td>\n",
              "      <td>0.584071</td>\n",
              "      <td>7.740765</td>\n",
              "    </tr>\n",
              "    <tr>\n",
              "      <th>1</th>\n",
              "      <td>DecisionTreeClassifier</td>\n",
              "      <td>0.115044</td>\n",
              "      <td>5.134830</td>\n",
              "    </tr>\n",
              "    <tr>\n",
              "      <th>2</th>\n",
              "      <td>RandomForestClassifier</td>\n",
              "      <td>0.252212</td>\n",
              "      <td>4.329817</td>\n",
              "    </tr>\n",
              "    <tr>\n",
              "      <th>3</th>\n",
              "      <td>LogisticRegression_optimized</td>\n",
              "      <td>0.997722</td>\n",
              "      <td>7.107096</td>\n",
              "    </tr>\n",
              "  </tbody>\n",
              "</table>\n",
              "</div>\n",
              "      <button class=\"colab-df-convert\" onclick=\"convertToInteractive('df-30df3a24-819d-464a-a407-c46df1af3465')\"\n",
              "              title=\"Convert this dataframe to an interactive table.\"\n",
              "              style=\"display:none;\">\n",
              "        \n",
              "  <svg xmlns=\"http://www.w3.org/2000/svg\" height=\"24px\"viewBox=\"0 0 24 24\"\n",
              "       width=\"24px\">\n",
              "    <path d=\"M0 0h24v24H0V0z\" fill=\"none\"/>\n",
              "    <path d=\"M18.56 5.44l.94 2.06.94-2.06 2.06-.94-2.06-.94-.94-2.06-.94 2.06-2.06.94zm-11 1L8.5 8.5l.94-2.06 2.06-.94-2.06-.94L8.5 2.5l-.94 2.06-2.06.94zm10 10l.94 2.06.94-2.06 2.06-.94-2.06-.94-.94-2.06-.94 2.06-2.06.94z\"/><path d=\"M17.41 7.96l-1.37-1.37c-.4-.4-.92-.59-1.43-.59-.52 0-1.04.2-1.43.59L10.3 9.45l-7.72 7.72c-.78.78-.78 2.05 0 2.83L4 21.41c.39.39.9.59 1.41.59.51 0 1.02-.2 1.41-.59l7.78-7.78 2.81-2.81c.8-.78.8-2.07 0-2.86zM5.41 20L4 18.59l7.72-7.72 1.47 1.35L5.41 20z\"/>\n",
              "  </svg>\n",
              "      </button>\n",
              "      \n",
              "  <style>\n",
              "    .colab-df-container {\n",
              "      display:flex;\n",
              "      flex-wrap:wrap;\n",
              "      gap: 12px;\n",
              "    }\n",
              "\n",
              "    .colab-df-convert {\n",
              "      background-color: #E8F0FE;\n",
              "      border: none;\n",
              "      border-radius: 50%;\n",
              "      cursor: pointer;\n",
              "      display: none;\n",
              "      fill: #1967D2;\n",
              "      height: 32px;\n",
              "      padding: 0 0 0 0;\n",
              "      width: 32px;\n",
              "    }\n",
              "\n",
              "    .colab-df-convert:hover {\n",
              "      background-color: #E2EBFA;\n",
              "      box-shadow: 0px 1px 2px rgba(60, 64, 67, 0.3), 0px 1px 3px 1px rgba(60, 64, 67, 0.15);\n",
              "      fill: #174EA6;\n",
              "    }\n",
              "\n",
              "    [theme=dark] .colab-df-convert {\n",
              "      background-color: #3B4455;\n",
              "      fill: #D2E3FC;\n",
              "    }\n",
              "\n",
              "    [theme=dark] .colab-df-convert:hover {\n",
              "      background-color: #434B5C;\n",
              "      box-shadow: 0px 1px 3px 1px rgba(0, 0, 0, 0.15);\n",
              "      filter: drop-shadow(0px 1px 2px rgba(0, 0, 0, 0.3));\n",
              "      fill: #FFFFFF;\n",
              "    }\n",
              "  </style>\n",
              "\n",
              "      <script>\n",
              "        const buttonEl =\n",
              "          document.querySelector('#df-30df3a24-819d-464a-a407-c46df1af3465 button.colab-df-convert');\n",
              "        buttonEl.style.display =\n",
              "          google.colab.kernel.accessAllowed ? 'block' : 'none';\n",
              "\n",
              "        async function convertToInteractive(key) {\n",
              "          const element = document.querySelector('#df-30df3a24-819d-464a-a407-c46df1af3465');\n",
              "          const dataTable =\n",
              "            await google.colab.kernel.invokeFunction('convertToInteractive',\n",
              "                                                     [key], {});\n",
              "          if (!dataTable) return;\n",
              "\n",
              "          const docLinkHtml = 'Like what you see? Visit the ' +\n",
              "            '<a target=\"_blank\" href=https://colab.research.google.com/notebooks/data_table.ipynb>data table notebook</a>'\n",
              "            + ' to learn more about interactive tables.';\n",
              "          element.innerHTML = '';\n",
              "          dataTable['output_type'] = 'display_data';\n",
              "          await google.colab.output.renderOutput(dataTable, element);\n",
              "          const docLink = document.createElement('div');\n",
              "          docLink.innerHTML = docLinkHtml;\n",
              "          element.appendChild(docLink);\n",
              "        }\n",
              "      </script>\n",
              "    </div>\n",
              "  </div>\n",
              "  "
            ]
          },
          "metadata": {},
          "execution_count": 64
        }
      ]
    },
    {
      "cell_type": "markdown",
      "source": [
        "## Best Model"
      ],
      "metadata": {
        "id": "fqyM--16P7gt"
      }
    },
    {
      "cell_type": "code",
      "source": [
        "model_metric_df.sort_values('accuracy',ascending=False).head(1)"
      ],
      "metadata": {
        "colab": {
          "base_uri": "https://localhost:8080/",
          "height": 81
        },
        "id": "Fdei4elePK6M",
        "outputId": "9b4a71b8-f827-4128-f4bd-6f83e186b4d0"
      },
      "execution_count": 65,
      "outputs": [
        {
          "output_type": "execute_result",
          "data": {
            "text/plain": [
              "                     Model Name  accuracy  Model runtime\n",
              "3  LogisticRegression_optimized  0.997722       7.107096"
            ],
            "text/html": [
              "\n",
              "  <div id=\"df-a4b74b23-ce56-433d-ac05-8ac64bf4f05d\">\n",
              "    <div class=\"colab-df-container\">\n",
              "      <div>\n",
              "<style scoped>\n",
              "    .dataframe tbody tr th:only-of-type {\n",
              "        vertical-align: middle;\n",
              "    }\n",
              "\n",
              "    .dataframe tbody tr th {\n",
              "        vertical-align: top;\n",
              "    }\n",
              "\n",
              "    .dataframe thead th {\n",
              "        text-align: right;\n",
              "    }\n",
              "</style>\n",
              "<table border=\"1\" class=\"dataframe\">\n",
              "  <thead>\n",
              "    <tr style=\"text-align: right;\">\n",
              "      <th></th>\n",
              "      <th>Model Name</th>\n",
              "      <th>accuracy</th>\n",
              "      <th>Model runtime</th>\n",
              "    </tr>\n",
              "  </thead>\n",
              "  <tbody>\n",
              "    <tr>\n",
              "      <th>3</th>\n",
              "      <td>LogisticRegression_optimized</td>\n",
              "      <td>0.997722</td>\n",
              "      <td>7.107096</td>\n",
              "    </tr>\n",
              "  </tbody>\n",
              "</table>\n",
              "</div>\n",
              "      <button class=\"colab-df-convert\" onclick=\"convertToInteractive('df-a4b74b23-ce56-433d-ac05-8ac64bf4f05d')\"\n",
              "              title=\"Convert this dataframe to an interactive table.\"\n",
              "              style=\"display:none;\">\n",
              "        \n",
              "  <svg xmlns=\"http://www.w3.org/2000/svg\" height=\"24px\"viewBox=\"0 0 24 24\"\n",
              "       width=\"24px\">\n",
              "    <path d=\"M0 0h24v24H0V0z\" fill=\"none\"/>\n",
              "    <path d=\"M18.56 5.44l.94 2.06.94-2.06 2.06-.94-2.06-.94-.94-2.06-.94 2.06-2.06.94zm-11 1L8.5 8.5l.94-2.06 2.06-.94-2.06-.94L8.5 2.5l-.94 2.06-2.06.94zm10 10l.94 2.06.94-2.06 2.06-.94-2.06-.94-.94-2.06-.94 2.06-2.06.94z\"/><path d=\"M17.41 7.96l-1.37-1.37c-.4-.4-.92-.59-1.43-.59-.52 0-1.04.2-1.43.59L10.3 9.45l-7.72 7.72c-.78.78-.78 2.05 0 2.83L4 21.41c.39.39.9.59 1.41.59.51 0 1.02-.2 1.41-.59l7.78-7.78 2.81-2.81c.8-.78.8-2.07 0-2.86zM5.41 20L4 18.59l7.72-7.72 1.47 1.35L5.41 20z\"/>\n",
              "  </svg>\n",
              "      </button>\n",
              "      \n",
              "  <style>\n",
              "    .colab-df-container {\n",
              "      display:flex;\n",
              "      flex-wrap:wrap;\n",
              "      gap: 12px;\n",
              "    }\n",
              "\n",
              "    .colab-df-convert {\n",
              "      background-color: #E8F0FE;\n",
              "      border: none;\n",
              "      border-radius: 50%;\n",
              "      cursor: pointer;\n",
              "      display: none;\n",
              "      fill: #1967D2;\n",
              "      height: 32px;\n",
              "      padding: 0 0 0 0;\n",
              "      width: 32px;\n",
              "    }\n",
              "\n",
              "    .colab-df-convert:hover {\n",
              "      background-color: #E2EBFA;\n",
              "      box-shadow: 0px 1px 2px rgba(60, 64, 67, 0.3), 0px 1px 3px 1px rgba(60, 64, 67, 0.15);\n",
              "      fill: #174EA6;\n",
              "    }\n",
              "\n",
              "    [theme=dark] .colab-df-convert {\n",
              "      background-color: #3B4455;\n",
              "      fill: #D2E3FC;\n",
              "    }\n",
              "\n",
              "    [theme=dark] .colab-df-convert:hover {\n",
              "      background-color: #434B5C;\n",
              "      box-shadow: 0px 1px 3px 1px rgba(0, 0, 0, 0.15);\n",
              "      filter: drop-shadow(0px 1px 2px rgba(0, 0, 0, 0.3));\n",
              "      fill: #FFFFFF;\n",
              "    }\n",
              "  </style>\n",
              "\n",
              "      <script>\n",
              "        const buttonEl =\n",
              "          document.querySelector('#df-a4b74b23-ce56-433d-ac05-8ac64bf4f05d button.colab-df-convert');\n",
              "        buttonEl.style.display =\n",
              "          google.colab.kernel.accessAllowed ? 'block' : 'none';\n",
              "\n",
              "        async function convertToInteractive(key) {\n",
              "          const element = document.querySelector('#df-a4b74b23-ce56-433d-ac05-8ac64bf4f05d');\n",
              "          const dataTable =\n",
              "            await google.colab.kernel.invokeFunction('convertToInteractive',\n",
              "                                                     [key], {});\n",
              "          if (!dataTable) return;\n",
              "\n",
              "          const docLinkHtml = 'Like what you see? Visit the ' +\n",
              "            '<a target=\"_blank\" href=https://colab.research.google.com/notebooks/data_table.ipynb>data table notebook</a>'\n",
              "            + ' to learn more about interactive tables.';\n",
              "          element.innerHTML = '';\n",
              "          dataTable['output_type'] = 'display_data';\n",
              "          await google.colab.output.renderOutput(dataTable, element);\n",
              "          const docLink = document.createElement('div');\n",
              "          docLink.innerHTML = docLinkHtml;\n",
              "          element.appendChild(docLink);\n",
              "        }\n",
              "      </script>\n",
              "    </div>\n",
              "  </div>\n",
              "  "
            ]
          },
          "metadata": {},
          "execution_count": 65
        }
      ]
    },
    {
      "cell_type": "markdown",
      "source": [
        "**Inference**\n",
        "\n",
        "Post optimization of the Logistic Regression model, we get an Accuracy of 99.77% with the model taking 7.1 seconds to train."
      ],
      "metadata": {
        "id": "jweXZa1eUViA"
      }
    }
  ]
}